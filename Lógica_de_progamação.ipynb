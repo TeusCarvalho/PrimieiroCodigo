{
  "nbformat": 4,
  "nbformat_minor": 0,
  "metadata": {
    "colab": {
      "name": "Lógica de progamação.ipynb",
      "provenance": [],
      "collapsed_sections": [
        "Uy7uyc5MxECb",
        "MkVwe2MVvK83",
        "KKiF-OzlvSuE",
        "9uaHRCbQzeOl",
        "5vQoD8Im0Euv",
        "LLmojFUN3iY5",
        "3CykRv0Op-3e"
      ],
      "toc_visible": true,
      "mount_file_id": "1Li_hRpViQsa2G6Qrt4dkgDEBwimvvF4D",
      "authorship_tag": "ABX9TyNG3oVrUAPVK4qDxmFv/DnJ",
      "include_colab_link": true
    },
    "kernelspec": {
      "name": "python3",
      "display_name": "Python 3"
    },
    "language_info": {
      "name": "python"
    }
  },
  "cells": [
    {
      "cell_type": "markdown",
      "metadata": {
        "id": "view-in-github",
        "colab_type": "text"
      },
      "source": [
        "<a href=\"https://colab.research.google.com/github/TeusCarvalho/PrimieiroCodigo/blob/main/L%C3%B3gica_de_progama%C3%A7%C3%A3o.ipynb\" target=\"_parent\"><img src=\"https://colab.research.google.com/assets/colab-badge.svg\" alt=\"Open In Colab\"/></a>"
      ]
    },
    {
      "cell_type": "markdown",
      "metadata": {
        "id": "Uy7uyc5MxECb"
      },
      "source": [
        "# Remenber\n"
      ]
    },
    {
      "cell_type": "code",
      "metadata": {
        "id": "bwIClmxnwq4G"
      },
      "source": [
        "import random\n",
        "def jogar():\n",
        "    print(\"################################\")\n",
        "    print(\"Bem vinda ao jogo de Advinhação!\")\n",
        "    print(\"################################\")\n",
        "\n",
        "    # Devo declarar as funçoes aqui embaixo\n",
        "    numero_secreto = random.randrange(1,101)\n",
        "    total_tentativas = 0\n",
        "    pontos = 1000\n",
        "\n",
        "    print(\"Qual nível de dificuldade!! \")\n",
        "    print(\"(1) Facíl (2) Médio (3) Difícil\")\n",
        "\n",
        "    nivel = int (input(\"Defina Seu nível: \"))\n",
        "\n",
        "    if (nivel == 1):\n",
        "        total_tentativas = 20\n",
        "    elif (nivel == 2):\n",
        "        total_tentativas = 10\n",
        "    else:\n",
        "        total_tentativas = 5\n",
        "\n",
        "    for rodada in range(1, total_tentativas + 1):  # Range parâmetro range( inico, para,[salto])\n",
        "        print(\"Tentatativa {} de {}\".format(rodada, total_tentativas)) #format deixar mais bonito\n",
        "        chute_str = input(\"Digite um número de 1 a 100: \")\n",
        "        chute = int(chute_str)\n",
        "        print(\"Você Digitou \", chute_str)\n",
        "\n",
        "        if chute < 1 or chute > 100:\n",
        "            print(\"Você deve digitar um número entre 1 e 100!\")\n",
        "            continue\n",
        "\n",
        "        # funçoes que estou usando\n",
        "        acertou = chute == numero_secreto\n",
        "        maior = chute > numero_secreto\n",
        "        menor = chute < numero_secreto\n",
        "\n",
        "        if acertou:\n",
        "            print(\"Você Acertou, e fez {} pontos!!\".format(pontos))\n",
        "            break  # Para o jogo\n",
        "        else:\n",
        "            if maior:\n",
        "                print(\"Você Errou! O seu numero foi maior que o numero secreto.\")\n",
        "            elif menor:\n",
        "                print(\"Você Errou! O seu numero foi menor que o numero secreto.\")\n",
        "            pontos_perdidos = abs(numero_secreto - chute) #menos o numero do seu chute\n",
        "            pontos = pontos - pontos_perdidos\n",
        "        rodada = rodada + 1\n",
        "\n",
        "    print(\"Fim do Jogo!\")"
      ],
      "execution_count": null,
      "outputs": []
    },
    {
      "cell_type": "code",
      "metadata": {
        "id": "8jleZ9pL0vdL",
        "colab": {
          "base_uri": "https://localhost:8080/"
        },
        "outputId": "390c7086-455d-4a36-b029-fc116753e4fc"
      },
      "source": [
        "import time\n",
        "\n",
        "print('\\n######################################')\n",
        "print('Seja bem vindo ao jogo da adivinhação')\n",
        "print('######################################\\n')\n",
        "\n",
        "def verifica_resposta(resposta, nome):\n",
        "    if '.' in resposta:\n",
        "        return nome\n",
        "    else:\n",
        "        nome = nome + resposta[0]\n",
        "        return nome\n",
        "\n",
        "nome = ''\n",
        "\n",
        "resposta = input('Qual seu filme favorito?\\n')\n",
        "nome = verifica_resposta(resposta, nome)\n",
        "\n",
        "resposta = input('Qual seu livro favorito?\\n')\n",
        "nome = verifica_resposta(resposta, nome)\n",
        "\n",
        "resposta = input('Qual sua fruta favorita?\\n')\n",
        "nome = verifica_resposta(resposta, nome)\n",
        "\n",
        "resposta = input('Qual sua cor favorita?\\n')\n",
        "nome = verifica_resposta(resposta, nome)\n",
        "\n",
        "print('Seu nome é ...\\n')\n",
        "time.sleep(2)\n",
        "print('Acredito que seu nome seja', nome)"
      ],
      "execution_count": null,
      "outputs": [
        {
          "output_type": "stream",
          "name": "stdout",
          "text": [
            "\n",
            "######################################\n",
            "Seja bem vindo ao jogo da adivinhação\n",
            "######################################\n",
            "\n",
            "Qual seu filme favorito?\n",
            "Malvado Favorito\n",
            "Qual seu livro favorito?\n",
            "Rico\n",
            "Qual sua fruta favorita?\n",
            "Morango\n",
            "Qual sua cor favorita?\n",
            "Vemelho\n",
            "Seu nome é ...\n",
            "\n",
            "Acredito que seu nome seja MRMV\n"
          ]
        }
      ]
    },
    {
      "cell_type": "markdown",
      "metadata": {
        "id": "MkVwe2MVvK83"
      },
      "source": [
        "# Primeiro Codigo no Google Colab\n"
      ]
    },
    {
      "cell_type": "code",
      "metadata": {
        "colab": {
          "base_uri": "https://localhost:8080/"
        },
        "id": "YVDm7JKttSf5",
        "outputId": "a00ac1c9-b405-4039-a6de-28c451b624f8"
      },
      "source": [
        "1+1"
      ],
      "execution_count": null,
      "outputs": [
        {
          "output_type": "execute_result",
          "data": {
            "text/plain": [
              "2"
            ]
          },
          "metadata": {},
          "execution_count": 1
        }
      ]
    },
    {
      "cell_type": "code",
      "metadata": {
        "colab": {
          "base_uri": "https://localhost:8080/"
        },
        "id": "HLJrIKcLt6gB",
        "outputId": "4b6223c7-ef8b-407a-8f31-0612014a2432"
      },
      "source": [
        "nome = \"Matheus\"\n",
        "print(nome)"
      ],
      "execution_count": null,
      "outputs": [
        {
          "output_type": "stream",
          "name": "stdout",
          "text": [
            "Matheus\n"
          ]
        }
      ]
    },
    {
      "cell_type": "code",
      "metadata": {
        "colab": {
          "base_uri": "https://localhost:8080/"
        },
        "id": "ixPKIWTYuPu5",
        "outputId": "c6513dd5-b3e4-45cc-eff5-c198f3554f87"
      },
      "source": [
        "nome = 'Matheus'\n",
        "idade = '28'\n",
        "print(f\"Meu {nome} e Minha {idade} é\")\n"
      ],
      "execution_count": null,
      "outputs": [
        {
          "output_type": "stream",
          "name": "stdout",
          "text": [
            "Meu Matheus e Minha 28 é\n"
          ]
        }
      ]
    },
    {
      "cell_type": "code",
      "metadata": {
        "id": "5yswZvzKvAFC"
      },
      "source": [
        ""
      ],
      "execution_count": null,
      "outputs": []
    },
    {
      "cell_type": "markdown",
      "metadata": {
        "id": "KKiF-OzlvSuE"
      },
      "source": [
        "# Criando uma função"
      ]
    },
    {
      "cell_type": "code",
      "metadata": {
        "id": "IEBl2_FGvX0Z"
      },
      "source": [
        "def saudacao():\n",
        "  nome = input(\"Qual é seu nome\")\n",
        "  print(f\"Olá {nome}\")\n"
      ],
      "execution_count": null,
      "outputs": []
    },
    {
      "cell_type": "code",
      "metadata": {
        "id": "mhYyiTgAvzvy"
      },
      "source": [
        "def nome_completo():\n",
        "  primieiro_nome = input(\"Qual o seu primeiro nome?  \")\n",
        "  sobrenome = input(\"Qual o seu SobreNome? \")\n",
        "  nome_inteiro = primieiro_nome + ' ' + sobrenome\n",
        "  print(nome_inteiro)"
      ],
      "execution_count": null,
      "outputs": []
    },
    {
      "cell_type": "code",
      "metadata": {
        "colab": {
          "base_uri": "https://localhost:8080/"
        },
        "id": "KZYXWyEqx7iy",
        "outputId": "87015d78-a6d3-4b10-fe5d-a9b0292379ec"
      },
      "source": [
        "nome_completo()"
      ],
      "execution_count": null,
      "outputs": [
        {
          "output_type": "stream",
          "name": "stdout",
          "text": [
            "Qual o seu primeiro nome?  Matheus\n",
            "Qual o seu SobreNome? Emiliano\n",
            "Matheus Emiliano\n"
          ]
        }
      ]
    },
    {
      "cell_type": "markdown",
      "metadata": {
        "id": "n7HZd7yx3f3r"
      },
      "source": [
        ""
      ]
    },
    {
      "cell_type": "markdown",
      "metadata": {
        "id": "9uaHRCbQzeOl"
      },
      "source": [
        "#Parâmertos\n"
      ]
    },
    {
      "cell_type": "code",
      "metadata": {
        "id": "EBRLEeaPzkZG"
      },
      "source": [
        "nome_da_pessoa = \"Matheus\""
      ],
      "execution_count": null,
      "outputs": []
    },
    {
      "cell_type": "code",
      "metadata": {
        "id": "b-LqGdtvyb0V"
      },
      "source": [
        "def saudacao():\n",
        "  nome = input(\"Qual é seu nome\")\n",
        "  print(f\"Olá {nome}\")"
      ],
      "execution_count": null,
      "outputs": []
    },
    {
      "cell_type": "code",
      "metadata": {
        "id": "HwmMb1sTy7rh"
      },
      "source": [
        "nome_da_pessoa = \"Luiza\""
      ],
      "execution_count": null,
      "outputs": []
    },
    {
      "cell_type": "code",
      "metadata": {
        "id": "Dg6qrBAyymrM"
      },
      "source": [
        "def saudacao_com_parametro(nome_da_pessoa):\n",
        "  print(f'Olá {nome_da_pessoa}') "
      ],
      "execution_count": null,
      "outputs": []
    },
    {
      "cell_type": "code",
      "metadata": {
        "colab": {
          "base_uri": "https://localhost:8080/"
        },
        "id": "8P0hxtp0y58C",
        "outputId": "61f1a2c4-b7dd-48c2-ede5-54d32a9552f7"
      },
      "source": [
        "saudacao_com_parametro(nome_da_pessoa)"
      ],
      "execution_count": null,
      "outputs": [
        {
          "output_type": "stream",
          "name": "stdout",
          "text": [
            "Ola Matheus\n"
          ]
        }
      ]
    },
    {
      "cell_type": "markdown",
      "metadata": {
        "id": "5vQoD8Im0Euv"
      },
      "source": [
        "#Condicional\n"
      ]
    },
    {
      "cell_type": "code",
      "metadata": {
        "colab": {
          "base_uri": "https://localhost:8080/"
        },
        "id": "lATmAr8r0JBU",
        "outputId": "ad3f4f30-e298-48ab-875b-73eb209d97a9"
      },
      "source": [
        " idade = 30\n",
        "\n",
        " def verificar_se_pode_dirigir(idade):\n",
        "   if idade >= 18:\n",
        "     print ('Vai com fé')\n",
        "   else:\n",
        "     idade <= 18\n",
        "     print(\"Não vai na fé\")\n",
        "\n",
        " verificar_se_pode_dirigir(idade)"
      ],
      "execution_count": null,
      "outputs": [
        {
          "output_type": "stream",
          "name": "stdout",
          "text": [
            "Vai com fé\n"
          ]
        }
      ]
    },
    {
      "cell_type": "markdown",
      "metadata": {
        "id": "LLmojFUN3iY5"
      },
      "source": [
        "#Convertendo tipo interio"
      ]
    },
    {
      "cell_type": "code",
      "metadata": {
        "colab": {
          "base_uri": "https://localhost:8080/"
        },
        "id": "Y_0qU_3t1CGH",
        "outputId": "1d7dcf8f-e5d9-4952-f7e0-b13d4e744ea0"
      },
      "source": [
        "def verificar_se_pode_dirigir_sem_parametros():\n",
        "  idade = input(\"Quantos anos você tem?  \")\n",
        "  idade = int (idade)\n",
        "  if idade >= 18:\n",
        "    print('Pode dirigir')\n",
        "  else:\n",
        "     print(\"Não pode dirigir\")\n",
        "\n",
        "verificar_se_pode_dirigir_sem_parametros()"
      ],
      "execution_count": null,
      "outputs": [
        {
          "output_type": "stream",
          "name": "stdout",
          "text": [
            "Quantos anos você tem?  0\n",
            "Não pode dirigir\n"
          ]
        }
      ]
    },
    {
      "cell_type": "markdown",
      "metadata": {
        "id": "3CykRv0Op-3e"
      },
      "source": [
        "#Lista\n"
      ]
    },
    {
      "cell_type": "code",
      "metadata": {
        "colab": {
          "base_uri": "https://localhost:8080/"
        },
        "id": "F-8xX_0TqCDI",
        "outputId": "d2417085-8bc8-45c7-a66b-9b206e136d1d"
      },
      "source": [
        "idade = 22\n",
        "idade\n",
        "type(idade)"
      ],
      "execution_count": null,
      "outputs": [
        {
          "output_type": "execute_result",
          "data": {
            "text/plain": [
              "int"
            ]
          },
          "metadata": {},
          "execution_count": 7
        }
      ]
    },
    {
      "cell_type": "code",
      "metadata": {
        "colab": {
          "base_uri": "https://localhost:8080/"
        },
        "id": "KApJVKhnqiH4",
        "outputId": "eca8c2f8-a00a-4700-8846-eedc28d269b3"
      },
      "source": [
        "idades = [18, 22, 15, 50]\n",
        "type(idades)"
      ],
      "execution_count": null,
      "outputs": [
        {
          "output_type": "execute_result",
          "data": {
            "text/plain": [
              "list"
            ]
          },
          "metadata": {},
          "execution_count": 14
        }
      ]
    },
    {
      "cell_type": "code",
      "metadata": {
        "colab": {
          "base_uri": "https://localhost:8080/"
        },
        "id": "c4kLbjuNqp_2",
        "outputId": "4164324b-653d-4e34-eb87-15e891e035f2"
      },
      "source": [
        "idades [1]"
      ],
      "execution_count": null,
      "outputs": [
        {
          "output_type": "execute_result",
          "data": {
            "text/plain": [
              "22"
            ]
          },
          "metadata": {},
          "execution_count": 12
        }
      ]
    },
    {
      "cell_type": "code",
      "metadata": {
        "colab": {
          "base_uri": "https://localhost:8080/"
        },
        "id": "LuKct-Ptqy06",
        "outputId": "a82c3bae-901c-4e6e-eee4-c52c3ae28307"
      },
      "source": [
        "idades [0:3]"
      ],
      "execution_count": null,
      "outputs": [
        {
          "output_type": "execute_result",
          "data": {
            "text/plain": [
              "[18, 22, 15]"
            ]
          },
          "metadata": {},
          "execution_count": 16
        }
      ]
    },
    {
      "cell_type": "code",
      "metadata": {
        "id": "HPk4Ym28rgAW"
      },
      "source": [
        ""
      ],
      "execution_count": null,
      "outputs": []
    },
    {
      "cell_type": "markdown",
      "metadata": {
        "id": "JkHWnwimrmZe"
      },
      "source": [
        "#Laços e loops"
      ]
    },
    {
      "cell_type": "code",
      "metadata": {
        "id": "zSgFfOouuJ_Z"
      },
      "source": [
        "idade = [18, 22, 15, 50]"
      ],
      "execution_count": null,
      "outputs": []
    },
    {
      "cell_type": "code",
      "metadata": {
        "colab": {
          "base_uri": "https://localhost:8080/",
          "height": 163
        },
        "id": "DWnhnbo2uuZl",
        "outputId": "df8bbf7c-788e-4e0c-e7f8-9b6cabf96f40"
      },
      "source": [
        "type(idade)"
      ],
      "execution_count": null,
      "outputs": [
        {
          "output_type": "error",
          "ename": "TypeError",
          "evalue": "ignored",
          "traceback": [
            "\u001b[0;31m---------------------------------------------------------------------------\u001b[0m",
            "\u001b[0;31mTypeError\u001b[0m                                 Traceback (most recent call last)",
            "\u001b[0;32m<ipython-input-67-d8f5c4efa24b>\u001b[0m in \u001b[0;36m<module>\u001b[0;34m()\u001b[0m\n\u001b[0;32m----> 1\u001b[0;31m \u001b[0mtype\u001b[0m\u001b[0;34m(\u001b[0m\u001b[0midade\u001b[0m\u001b[0;34m)\u001b[0m\u001b[0;34m\u001b[0m\u001b[0;34m\u001b[0m\u001b[0m\n\u001b[0m",
            "\u001b[0;31mTypeError\u001b[0m: 'list' object is not callable"
          ]
        }
      ]
    },
    {
      "cell_type": "code",
      "metadata": {
        "colab": {
          "base_uri": "https://localhost:8080/",
          "height": 129
        },
        "id": "rSJCO8QUuOgI",
        "outputId": "08dbd798-eb73-4857-8f75-d1a8c2fafab6"
      },
      "source": [
        "def verificar_se_pode_dirigir(idade):\n",
        "   if idade >= 18:\n",
        "     print(f'{idade} anos de idade, Tem permissão para dirigir')\n",
        "   else:\n",
        "     print(f'{idade} anos de idade, Não Tem permossão para dirigir')\n",
        "  \n",
        "  for idade in idades:\n",
        "    verificar_se_pode_dirigir(idades)"
      ],
      "execution_count": null,
      "outputs": [
        {
          "output_type": "error",
          "ename": "IndentationError",
          "evalue": "ignored",
          "traceback": [
            "\u001b[0;36m  File \u001b[0;32m\"<ipython-input-49-0c859f815ee9>\"\u001b[0;36m, line \u001b[0;32m6\u001b[0m\n\u001b[0;31m    for idades in idades:\u001b[0m\n\u001b[0m                         ^\u001b[0m\n\u001b[0;31mIndentationError\u001b[0m\u001b[0;31m:\u001b[0m unindent does not match any outer indentation level\n"
          ]
        }
      ]
    }
  ]
}